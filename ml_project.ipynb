{
 "cells": [
  {
   "cell_type": "code",
   "execution_count": 67,
   "id": "7990ba54-4303-4661-a9db-2e9086113a26",
   "metadata": {},
   "outputs": [],
   "source": [
    "import pandas as pd\n",
    "from sklearn.tree import DecisionTreeClassifier\n",
    "from sklearn.model_selection import train_test_split\n",
    "from sklearn.metrics import accuracy_score\n",
    "import joblib\n",
    "from sklearn import tree\n",
    "\n",
    "music_data = pd.read_csv('music.csv')\n",
    "X = music_data.drop(columns=['genre'])\n",
    "Y=music_data['genre']\n",
    "# X_train, X_test, Y_train, Y_test = train_test_split(X,Y,test_size=0.2)\n",
    "\n",
    "model = DecisionTreeClassifier()\n",
    "model.fit(X,Y)\n",
    "\n",
    "tree.export_graphviz(model, \n",
    "    out_file='music-recommender.dot',\n",
    "    feature_names=['age', 'gender'],\n",
    "    class_names=sorted(Y.unique()),\n",
    "    rounded=True,\n",
    "    filled=True\n",
    ")\n",
    "\n",
    "# model = joblib.load('music-recommender.joblib')\n",
    "# predictions = model.predict([[21, 1]])\n",
    "# predictions\n",
    "# score = accuracy_score(Y_test,predictions)\n",
    "# score"
   ]
  },
  {
   "cell_type": "code",
   "execution_count": null,
   "id": "4f7a069f-8156-4c61-9a33-6d294641488e",
   "metadata": {},
   "outputs": [],
   "source": []
  }
 ],
 "metadata": {
  "kernelspec": {
   "display_name": "Python 3 (ipykernel)",
   "language": "python",
   "name": "python3"
  },
  "language_info": {
   "codemirror_mode": {
    "name": "ipython",
    "version": 3
   },
   "file_extension": ".py",
   "mimetype": "text/x-python",
   "name": "python",
   "nbconvert_exporter": "python",
   "pygments_lexer": "ipython3",
   "version": "3.12.7"
  }
 },
 "nbformat": 4,
 "nbformat_minor": 5
}
